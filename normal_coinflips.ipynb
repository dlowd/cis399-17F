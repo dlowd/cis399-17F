{
 "cells": [
  {
   "cell_type": "markdown",
   "metadata": {},
   "source": [
    "# Randomness, Numpy, and the Central Limit Theorem\n",
    "\n",
    "### Notebook by Daniel Lowd <lowd@cs.uoregon.edu>\n",
    "\n",
    "Probability distributions describe random processes. One way to explore probability distributions is to generate a random sample from a probability distribution and analyzing the data, just as we would analyze a random sample from a population.\n"
   ]
  },
  {
   "cell_type": "code",
   "execution_count": 1,
   "metadata": {
    "collapsed": true
   },
   "outputs": [],
   "source": [
    "# Standard imports\n",
    "import matplotlib.pyplot as plt\n",
    "import pandas as pd\n",
    "import scipy.stats as st\n",
    "import numpy as np"
   ]
  },
  {
   "cell_type": "markdown",
   "metadata": {},
   "source": [
    "You can generate random numbers using methods from ``numpy.random``. Here are a few ways to do it."
   ]
  },
  {
   "cell_type": "code",
   "execution_count": 2,
   "metadata": {},
   "outputs": [
    {
     "name": "stdout",
     "output_type": "stream",
     "text": [
      "0.8506901648451606\n",
      "84\n",
      "1423\n",
      "2.0916768183595043\n"
     ]
    }
   ],
   "source": [
    "# Uniform distribution over the interval [0,1):\n",
    "print(np.random.rand())\n",
    "\n",
    "# Random integer from 0 to 99:\n",
    "print(np.random.randint(100))\n",
    "\n",
    "# Random integer from 1000 to 1999:\n",
    "print(np.random.randint(1000,2000))\n",
    "\n",
    "# Random sample from a standard normal distribution\n",
    "print(np.random.randn())"
   ]
  },
  {
   "cell_type": "markdown",
   "metadata": {},
   "source": [
    "To sample from a uniform categorical distribution, use ``numpy.random.choice``. Recall that, in a uniform distribution, all outcomes are equally likely. Many functions in ``numpy.random`` allow you request an array of samples at once. Here's code for flipping a coin 100 times."
   ]
  },
  {
   "cell_type": "code",
   "execution_count": 3,
   "metadata": {},
   "outputs": [
    {
     "data": {
      "text/plain": [
       "array(['Tails', 'Tails', 'Tails', 'Heads', 'Tails', 'Tails', 'Heads',\n",
       "       'Heads', 'Heads', 'Tails', 'Heads', 'Heads', 'Heads', 'Tails',\n",
       "       'Heads', 'Heads', 'Tails', 'Heads', 'Tails', 'Heads', 'Tails',\n",
       "       'Tails', 'Heads', 'Heads', 'Heads', 'Heads', 'Tails', 'Tails',\n",
       "       'Heads', 'Heads', 'Tails', 'Tails', 'Tails', 'Heads', 'Heads',\n",
       "       'Tails', 'Heads', 'Heads', 'Heads', 'Heads', 'Heads', 'Tails',\n",
       "       'Heads', 'Tails', 'Heads', 'Heads', 'Heads', 'Heads', 'Tails',\n",
       "       'Heads', 'Heads', 'Heads', 'Tails', 'Heads', 'Heads', 'Heads',\n",
       "       'Tails', 'Heads', 'Heads', 'Heads', 'Heads', 'Tails', 'Heads',\n",
       "       'Tails', 'Heads', 'Tails', 'Tails', 'Heads', 'Tails', 'Tails',\n",
       "       'Tails', 'Heads', 'Heads', 'Heads', 'Heads', 'Heads', 'Tails',\n",
       "       'Heads', 'Heads', 'Tails', 'Heads', 'Heads', 'Tails', 'Tails',\n",
       "       'Tails', 'Heads', 'Heads', 'Heads', 'Heads', 'Heads', 'Tails',\n",
       "       'Tails', 'Tails', 'Tails', 'Tails', 'Tails', 'Heads', 'Heads',\n",
       "       'Heads', 'Tails'], \n",
       "      dtype='<U5')"
      ]
     },
     "execution_count": 3,
     "metadata": {},
     "output_type": "execute_result"
    }
   ],
   "source": [
    "flips = np.random.choice(['Heads','Tails'],size=100)\n",
    "flips"
   ]
  },
  {
   "cell_type": "markdown",
   "metadata": {},
   "source": [
    "Is our coin fair? Let's build a bar graph to see for ourselves. We'll put the array into a pandas ``Series`` object, which will let us count outcomes using ``value_counts``, then plot it with the built-in plotting functions. Sometimes you have to tell matplotlib to go ahead and show the plot when you're done.\n",
    "\n",
    "A ``Series`` object is like one column of a ``DataFrame``. If we had multiple random variables to keep track of here, we could use a ``DataFrame``, but for one variable a ``Series`` is just right."
   ]
  },
  {
   "cell_type": "code",
   "execution_count": 4,
   "metadata": {},
   "outputs": [
    {
     "data": {
      "image/png": "[encoded data removed]",
      "text/plain": [
       "<matplotlib.figure.Figure at 0x10d9f4f98>"
      ]
     },
     "metadata": {},
     "output_type": "display_data"
    }
   ],
   "source": [
    "pd.Series(flips).value_counts().plot.bar()\n",
    "plt.show()"
   ]
  },
  {
   "cell_type": "markdown",
   "metadata": {},
   "source": [
    "That bar graph should be kind of close to 50% heads, 50% tails. If we repeat this experiment over and over again, how close will we be to exactly half heads, half tails? The number of heads out of 100 flips follows a binomial distribution, which we haven't discussed yet. But that doesn't matter -- we can easily simulate it ourselves by collecting many samples.\n",
    "\n",
    "Instead of Heads and Tails, I'll switch to generating 0s and 1s from ``randint``. The advantage of 0s and 1s is that I can easily add them up using ``numpy``. With a two-dimensional size argument, I get a two-dimensional array of samples. ``sum(axis=1)`` sums each row.\n",
    "\n",
    "Putting it all together, here's how I flip 100 fair coins, count the number of heads, and repeat the process 10,000 times. I'll summarize the results with a histogram. (Because this is a discrete distribution, it helps to give matplotlib an explicit ``range=`` argument -- otherwise, you could end up with some bins covering more discrete values than others, which leads to a weird shape. This happened in class, and I was puzzled at first.)"
   ]
  },
  {
   "cell_type": "code",
   "execution_count": 5,
   "metadata": {},
   "outputs": [
    {
     "data": {
      "image/png": "[encoded data removed]",
      "text/plain": [
       "<matplotlib.figure.Figure at 0x110da5fd0>"
      ]
     },
     "metadata": {},
     "output_type": "display_data"
    }
   ],
   "source": [
    "plt.clf()\n",
    "trials = np.random.randint(2,size=(10000,100)).sum(axis=1)\n",
    "plt.hist(trials, bins=100, range=[0, 100])\n",
    "plt.show()"
   ]
  },
  {
   "cell_type": "markdown",
   "metadata": {},
   "source": [
    "Interesting shape! We were just counting coinflips, but this looks kind of like a normal distribution. The central limit theorem (informally) says that adding up lots of distributions usually leads to a distribution that's approximately normal. That's part of why we're going to care so much about normal distributions in this class -- they show up everywhere!\n",
    "\n",
    "For a single coinflip, the mean is 0.5 heads, the variance of 0.25, and the standard deviation of 0.5 (this is easy to check yourself!). Therefore, the sum of 100 independent coinflips should have a mean of 50 heads, a variance of 25, and a standard deviation of 5. If this distribution is approximately normal, then we should see ~68% of the trials within one standard deviation of the mean -- that is, ranging from 45 to 55. 95% should fall within 2 standard deviations (the range from 40 to 60), and 99.7% should fall within 3 standard deviations (the range from 35 to 65)."
   ]
  },
  {
   "cell_type": "code",
   "execution_count": 6,
   "metadata": {},
   "outputs": [
    {
     "name": "stdout",
     "output_type": "stream",
     "text": [
      "Within 1 SD:  68.19 %\n",
      "Within 2 SD:  95.46 %\n",
      "Within 3 SD:  99.67 %\n"
     ]
    }
   ],
   "source": [
    "n = 10000 # Number of trials\n",
    "mu = 50   # Mean\n",
    "sigma = 5 # Standard deviation\n",
    "one_sd   = np.logical_and(trials > mu - sigma,   trials <= mu + sigma)\n",
    "two_sd   = np.logical_and(trials > mu - 2*sigma, trials <= mu + 2*sigma)\n",
    "three_sd = np.logical_and(trials > mu - 3*sigma, trials <= mu + 3*sigma)\n",
    "\n",
    "print(\"Within 1 SD: \", 100 * one_sd.sum()/n, \"%\")\n",
    "print(\"Within 2 SD: \", 100 * two_sd.sum()/n, \"%\")\n",
    "print(\"Within 3 SD: \", 100 * three_sd.sum()/n, \"%\")"
   ]
  },
  {
   "cell_type": "code",
   "execution_count": 7,
   "metadata": {},
   "outputs": [
    {
     "data": {
      "image/png": "[encoded data removed]",
      "text/plain": [
       "<matplotlib.figure.Figure at 0x1116f49e8>"
      ]
     },
     "metadata": {},
     "output_type": "display_data"
    }
   ],
   "source": [
    "# Generate 10,000 samples from a normal distribution with the same mean and standard deviation\n",
    "normal_trials = sigma * np.random.randn(10000) + mu\n",
    "\n",
    "# Compare the plots\n",
    "plt.clf()\n",
    "plt.hist(trials, bins=100, range=[0, 100], alpha=0.5)\n",
    "plt.hist(normal_trials, bins=100, range=[0, 100], alpha=0.5)\n",
    "plt.show()"
   ]
  },
  {
   "cell_type": "markdown",
   "metadata": {},
   "source": [
    "They line up almost perfectly! Play around with this notebook to see under what conditions the coinflips aren't approximately normal."
   ]
  },
  {
   "cell_type": "code",
   "execution_count": null,
   "metadata": {
    "collapsed": true
   },
   "outputs": [],
   "source": []
  }
 ],
 "metadata": {
  "kernelspec": {
   "display_name": "Python 3",
   "language": "python",
   "name": "python3"
  },
  "language_info": {
   "codemirror_mode": {
    "name": "ipython",
    "version": 3
   },
   "file_extension": ".py",
   "mimetype": "text/x-python",
   "name": "python",
   "nbconvert_exporter": "python",
   "pygments_lexer": "ipython3",
   "version": "3.6.1"
  }
 },
 "nbformat": 4,
 "nbformat_minor": 2
}
