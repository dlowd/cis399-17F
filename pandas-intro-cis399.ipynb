{
 "cells": [
  {
   "cell_type": "markdown",
   "metadata": {},
   "source": [
    "# A Brief Introduction to Data Analysis in Python\n",
    "## Notebook by Daniel Lowd, 10/5/2017\n",
    "## Created for CIS 399, Probability and Statistics for Computer Science\n",
    "\n",
    "In this Python notebook, we will explore basic data manipulation and plotting using the pandas library. In particular, we will focus on concepts covered in Chapter 1 of [OpenIntro Statistics](http://openintro.org/stat/)."
   ]
  },
  {
   "cell_type": "markdown",
   "metadata": {},
   "source": [
    "Air quality index (AQI) is a number that describes how dangerous the air is to breathe. Higher numbers correspond to more pollutants in the air, making it less healthy. You can find information on the air quality in Lane county from the [Lane Regional Air Protection Agency (LRAPA)](http://www.lrapa.org). Their website tracks the current air quality in three regions: Eugene/Springfield, Cottage Grove, and Oakridge. They also support downloading information on the past air quality.\n",
    "\n",
    "I've downloaded 5 years of AQI information for us to explore. You can find the CSV file here: [aqi-lanecounty-2012-2017.csv](http://ix.cs.uoregon.edu/~lowd/aqi-lanecounty-2012-2017.csv). In the following, we'll explore and analyze this data in a variety of ways."
   ]
  },
  {
   "cell_type": "markdown",
   "metadata": {},
   "source": [
    "## Loading data\n",
    "First, we'll read in the data and look at the columns, their types, and some basic summary statistics."
   ]
  },
  {
   "cell_type": "code",
   "execution_count": 1,
   "metadata": {
    "collapsed": true
   },
   "outputs": [],
   "source": [
    "# Standard imports\n",
    "import numpy as np\n",
    "import pandas as pd\n",
    "import matplotlib.pyplot as plt\n",
    "\n",
    "# This tells matplotlib to draw plots inline in IPython. Otherwise, it creates new windows for the plots.\n",
    "%matplotlib inline"
   ]
  },
  {
   "cell_type": "code",
   "execution_count": 2,
   "metadata": {},
   "outputs": [
    {
     "data": {
      "text/html": [
       "<div>\n",
       "<style>\n",
       "    .dataframe thead tr:only-child th {\n",
       "        text-align: right;\n",
       "    }\n",
       "\n",
       "    .dataframe thead th {\n",
       "        text-align: left;\n",
       "    }\n",
       "\n",
       "    .dataframe tbody tr th {\n",
       "        vertical-align: top;\n",
       "    }\n",
       "</style>\n",
       "<table border=\"1\" class=\"dataframe\">\n",
       "  <thead>\n",
       "    <tr style=\"text-align: right;\">\n",
       "      <th></th>\n",
       "      <th>Observation Date</th>\n",
       "      <th>Reporting Area</th>\n",
       "      <th>AQI</th>\n",
       "      <th>AQI Category</th>\n",
       "      <th>Pollutant</th>\n",
       "    </tr>\n",
       "  </thead>\n",
       "  <tbody>\n",
       "    <tr>\n",
       "      <th>0</th>\n",
       "      <td>2012-09-01</td>\n",
       "      <td>Cottage Grove</td>\n",
       "      <td>33.0</td>\n",
       "      <td>Good</td>\n",
       "      <td>Ozone</td>\n",
       "    </tr>\n",
       "    <tr>\n",
       "      <th>1</th>\n",
       "      <td>2012-09-01</td>\n",
       "      <td>Eugene/Springfield</td>\n",
       "      <td>31.0</td>\n",
       "      <td>Good</td>\n",
       "      <td>Ozone</td>\n",
       "    </tr>\n",
       "    <tr>\n",
       "      <th>2</th>\n",
       "      <td>2012-09-01</td>\n",
       "      <td>Oakridge</td>\n",
       "      <td>12.0</td>\n",
       "      <td>Good</td>\n",
       "      <td>Particulate Matter</td>\n",
       "    </tr>\n",
       "    <tr>\n",
       "      <th>3</th>\n",
       "      <td>2012-09-02</td>\n",
       "      <td>Cottage Grove</td>\n",
       "      <td>34.0</td>\n",
       "      <td>Good</td>\n",
       "      <td>Ozone</td>\n",
       "    </tr>\n",
       "    <tr>\n",
       "      <th>4</th>\n",
       "      <td>2012-09-02</td>\n",
       "      <td>Eugene/Springfield</td>\n",
       "      <td>31.0</td>\n",
       "      <td>Good</td>\n",
       "      <td>Ozone</td>\n",
       "    </tr>\n",
       "  </tbody>\n",
       "</table>\n",
       "</div>"
      ],
      "text/plain": [
       "  Observation Date      Reporting Area   AQI AQI Category           Pollutant\n",
       "0       2012-09-01       Cottage Grove  33.0         Good               Ozone\n",
       "1       2012-09-01  Eugene/Springfield  31.0         Good               Ozone\n",
       "2       2012-09-01            Oakridge  12.0         Good  Particulate Matter\n",
       "3       2012-09-02       Cottage Grove  34.0         Good               Ozone\n",
       "4       2012-09-02  Eugene/Springfield  31.0         Good               Ozone"
      ]
     },
     "execution_count": 2,
     "metadata": {},
     "output_type": "execute_result"
    }
   ],
   "source": [
    "# First, read the dataset. Pandas can read from local files or URLs, and supports CSV and Excel.\n",
    "df = pd.read_csv('http://ix.cs.uoregon.edu/~lowd/aqi-lanecounty-2012-2017.csv')\n",
    "\n",
    "# A good place to start is to look at the data. head() shows the first few rows.\n",
    "df.head()"
   ]
  },
  {
   "cell_type": "code",
   "execution_count": 3,
   "metadata": {},
   "outputs": [
    {
     "data": {
      "text/plain": [
       "Observation Date     object\n",
       "Reporting Area       object\n",
       "AQI                 float64\n",
       "AQI Category         object\n",
       "Pollutant            object\n",
       "dtype: object"
      ]
     },
     "execution_count": 3,
     "metadata": {},
     "output_type": "execute_result"
    }
   ],
   "source": [
    "# dtypes shows the type of each column in the data.\n",
    "df.dtypes"
   ]
  },
  {
   "cell_type": "code",
   "execution_count": 4,
   "metadata": {},
   "outputs": [
    {
     "data": {
      "text/html": [
       "<div>\n",
       "<style>\n",
       "    .dataframe thead tr:only-child th {\n",
       "        text-align: right;\n",
       "    }\n",
       "\n",
       "    .dataframe thead th {\n",
       "        text-align: left;\n",
       "    }\n",
       "\n",
       "    .dataframe tbody tr th {\n",
       "        vertical-align: top;\n",
       "    }\n",
       "</style>\n",
       "<table border=\"1\" class=\"dataframe\">\n",
       "  <thead>\n",
       "    <tr style=\"text-align: right;\">\n",
       "      <th></th>\n",
       "      <th>AQI</th>\n",
       "    </tr>\n",
       "  </thead>\n",
       "  <tbody>\n",
       "    <tr>\n",
       "      <th>count</th>\n",
       "      <td>5051.000000</td>\n",
       "    </tr>\n",
       "    <tr>\n",
       "      <th>mean</th>\n",
       "      <td>33.915066</td>\n",
       "    </tr>\n",
       "    <tr>\n",
       "      <th>std</th>\n",
       "      <td>21.503684</td>\n",
       "    </tr>\n",
       "    <tr>\n",
       "      <th>min</th>\n",
       "      <td>1.000000</td>\n",
       "    </tr>\n",
       "    <tr>\n",
       "      <th>25%</th>\n",
       "      <td>19.000000</td>\n",
       "    </tr>\n",
       "    <tr>\n",
       "      <th>50%</th>\n",
       "      <td>30.000000</td>\n",
       "    </tr>\n",
       "    <tr>\n",
       "      <th>75%</th>\n",
       "      <td>42.000000</td>\n",
       "    </tr>\n",
       "    <tr>\n",
       "      <th>max</th>\n",
       "      <td>186.000000</td>\n",
       "    </tr>\n",
       "  </tbody>\n",
       "</table>\n",
       "</div>"
      ],
      "text/plain": [
       "               AQI\n",
       "count  5051.000000\n",
       "mean     33.915066\n",
       "std      21.503684\n",
       "min       1.000000\n",
       "25%      19.000000\n",
       "50%      30.000000\n",
       "75%      42.000000\n",
       "max     186.000000"
      ]
     },
     "execution_count": 4,
     "metadata": {},
     "output_type": "execute_result"
    }
   ],
   "source": [
    "# You can get basic properties on all numeric columns with describe(). In this case, there's just one -- AQI.\n",
    "# You can get individual values as well with mean(), std(), etc.\n",
    "df.describe()"
   ]
  },
  {
   "cell_type": "code",
   "execution_count": 5,
   "metadata": {},
   "outputs": [
    {
     "data": {
      "text/plain": [
       "32.322610294117645"
      ]
     },
     "execution_count": 5,
     "metadata": {},
     "output_type": "execute_result"
    }
   ],
   "source": [
    "# Select data from a data frame using attribute tests\n",
    "df[('2016-09-01' < df['Observation Date']) & (df['Observation Date'] < '2017-08-31')]['AQI'].mean()"
   ]
  },
  {
   "cell_type": "code",
   "execution_count": 6,
   "metadata": {},
   "outputs": [
    {
     "data": {
      "text/plain": [
       "31.199745547073793"
      ]
     },
     "execution_count": 6,
     "metadata": {},
     "output_type": "execute_result"
    }
   ],
   "source": [
    "#...or ranges\n",
    "df[0:1000]['AQI'].mean()"
   ]
  },
  {
   "cell_type": "markdown",
   "metadata": {},
   "source": [
    "## Changing category names and order\n",
    "This data frame is just treating the categories as arbitrary strings. We can change the names and add categories manually if we want, though it's a bit of a hassle."
   ]
  },
  {
   "cell_type": "code",
   "execution_count": 7,
   "metadata": {},
   "outputs": [
    {
     "data": {
      "text/plain": [
       "Index(['Good', 'Moderate', 'Unhealthy', 'Unhealthy for Sensitive Groups'], dtype='object')"
      ]
     },
     "execution_count": 7,
     "metadata": {},
     "output_type": "execute_result"
    }
   ],
   "source": [
    "# Change type to category\n",
    "df['AQI Category'] = df['AQI Category'].astype('category')\n",
    "\n",
    "# Here's the initial categories, set automatically\n",
    "df['AQI Category'].cat.categories"
   ]
  },
  {
   "cell_type": "code",
   "execution_count": 8,
   "metadata": {},
   "outputs": [],
   "source": [
    "# Here's how we rename them\n",
    "df['AQI Category'].cat.categories = ['Good', 'Moderate', 'Unhealthy', 'Somewhat Unhealthy']\n",
    "\n",
    "# Here's how we add new categories\n",
    "df['AQI Category'] = df['AQI Category'].cat.add_categories(['Very Unhealthy'])\n",
    "\n",
    "# Here's how to reorder\n",
    "df['AQI Category'] = df['AQI Category'].cat.reorder_categories(['Good', 'Moderate', 'Somewhat Unhealthy', 'Unhealthy', 'Very Unhealthy'], ordered=True)"
   ]
  },
  {
   "cell_type": "markdown",
   "metadata": {},
   "source": [
    "## Grouping\n",
    "Let's see if the air quality varies from region to region. We can use groupby to turn a single dataframe into a collection of dataframes, corresponding to different values of the grouped attribute."
   ]
  },
  {
   "cell_type": "code",
   "execution_count": 9,
   "metadata": {},
   "outputs": [
    {
     "data": {
      "text/html": [
       "<div>\n",
       "<style>\n",
       "    .dataframe thead tr:only-child th {\n",
       "        text-align: right;\n",
       "    }\n",
       "\n",
       "    .dataframe thead th {\n",
       "        text-align: left;\n",
       "    }\n",
       "\n",
       "    .dataframe tbody tr th {\n",
       "        vertical-align: top;\n",
       "    }\n",
       "</style>\n",
       "<table border=\"1\" class=\"dataframe\">\n",
       "  <thead>\n",
       "    <tr>\n",
       "      <th></th>\n",
       "      <th colspan=\"8\" halign=\"left\">AQI</th>\n",
       "    </tr>\n",
       "    <tr>\n",
       "      <th></th>\n",
       "      <th>count</th>\n",
       "      <th>mean</th>\n",
       "      <th>std</th>\n",
       "      <th>min</th>\n",
       "      <th>25%</th>\n",
       "      <th>50%</th>\n",
       "      <th>75%</th>\n",
       "      <th>max</th>\n",
       "    </tr>\n",
       "    <tr>\n",
       "      <th>Reporting Area</th>\n",
       "      <th></th>\n",
       "      <th></th>\n",
       "      <th></th>\n",
       "      <th></th>\n",
       "      <th></th>\n",
       "      <th></th>\n",
       "      <th></th>\n",
       "      <th></th>\n",
       "    </tr>\n",
       "  </thead>\n",
       "  <tbody>\n",
       "    <tr>\n",
       "      <th>Cottage Grove</th>\n",
       "      <td>1407.0</td>\n",
       "      <td>34.149964</td>\n",
       "      <td>17.320043</td>\n",
       "      <td>1.0</td>\n",
       "      <td>24.0</td>\n",
       "      <td>32.0</td>\n",
       "      <td>41.0</td>\n",
       "      <td>177.0</td>\n",
       "    </tr>\n",
       "    <tr>\n",
       "      <th>Eugene/Springfield</th>\n",
       "      <td>1826.0</td>\n",
       "      <td>35.162103</td>\n",
       "      <td>21.336264</td>\n",
       "      <td>3.0</td>\n",
       "      <td>21.0</td>\n",
       "      <td>31.0</td>\n",
       "      <td>43.0</td>\n",
       "      <td>186.0</td>\n",
       "    </tr>\n",
       "    <tr>\n",
       "      <th>Oakridge</th>\n",
       "      <td>1818.0</td>\n",
       "      <td>32.480748</td>\n",
       "      <td>24.333966</td>\n",
       "      <td>5.0</td>\n",
       "      <td>15.0</td>\n",
       "      <td>24.0</td>\n",
       "      <td>43.0</td>\n",
       "      <td>179.0</td>\n",
       "    </tr>\n",
       "  </tbody>\n",
       "</table>\n",
       "</div>"
      ],
      "text/plain": [
       "                       AQI                                                    \n",
       "                     count       mean        std  min   25%   50%   75%    max\n",
       "Reporting Area                                                                \n",
       "Cottage Grove       1407.0  34.149964  17.320043  1.0  24.0  32.0  41.0  177.0\n",
       "Eugene/Springfield  1826.0  35.162103  21.336264  3.0  21.0  31.0  43.0  186.0\n",
       "Oakridge            1818.0  32.480748  24.333966  5.0  15.0  24.0  43.0  179.0"
      ]
     },
     "execution_count": 9,
     "metadata": {},
     "output_type": "execute_result"
    }
   ],
   "source": [
    "by_area = df.groupby('Reporting Area')\n",
    "by_area.describe()"
   ]
  },
  {
   "cell_type": "code",
   "execution_count": 10,
   "metadata": {
    "scrolled": false
   },
   "outputs": [
    {
     "data": {
      "text/plain": [
       "Reporting Area      AQI Category      \n",
       "Cottage Grove       Good                  1251\n",
       "                    Moderate               144\n",
       "                    Somewhat Unhealthy       8\n",
       "                    Unhealthy                4\n",
       "Eugene/Springfield  Good                  1516\n",
       "                    Moderate               277\n",
       "                    Somewhat Unhealthy      27\n",
       "                    Unhealthy                6\n",
       "Oakridge            Good                  1459\n",
       "                    Moderate               318\n",
       "                    Somewhat Unhealthy      36\n",
       "                    Unhealthy                5\n",
       "Name: AQI Category, dtype: int64"
      ]
     },
     "execution_count": 10,
     "metadata": {},
     "output_type": "execute_result"
    }
   ],
   "source": [
    "# We can analyze categorical values with value_counts()\n",
    "by_area['AQI Category'].value_counts()"
   ]
  },
  {
   "cell_type": "code",
   "execution_count": 11,
   "metadata": {
    "scrolled": true
   },
   "outputs": [
    {
     "data": {
      "text/html": [
       "<div>\n",
       "<style>\n",
       "    .dataframe thead tr:only-child th {\n",
       "        text-align: right;\n",
       "    }\n",
       "\n",
       "    .dataframe thead th {\n",
       "        text-align: left;\n",
       "    }\n",
       "\n",
       "    .dataframe tbody tr th {\n",
       "        vertical-align: top;\n",
       "    }\n",
       "</style>\n",
       "<table border=\"1\" class=\"dataframe\">\n",
       "  <thead>\n",
       "    <tr style=\"text-align: right;\">\n",
       "      <th>AQI Category</th>\n",
       "      <th>Good</th>\n",
       "      <th>Moderate</th>\n",
       "      <th>Somewhat Unhealthy</th>\n",
       "      <th>Unhealthy</th>\n",
       "    </tr>\n",
       "    <tr>\n",
       "      <th>Reporting Area</th>\n",
       "      <th></th>\n",
       "      <th></th>\n",
       "      <th></th>\n",
       "      <th></th>\n",
       "    </tr>\n",
       "  </thead>\n",
       "  <tbody>\n",
       "    <tr>\n",
       "      <th>Cottage Grove</th>\n",
       "      <td>1251</td>\n",
       "      <td>144</td>\n",
       "      <td>8</td>\n",
       "      <td>4</td>\n",
       "    </tr>\n",
       "    <tr>\n",
       "      <th>Eugene/Springfield</th>\n",
       "      <td>1516</td>\n",
       "      <td>277</td>\n",
       "      <td>27</td>\n",
       "      <td>6</td>\n",
       "    </tr>\n",
       "    <tr>\n",
       "      <th>Oakridge</th>\n",
       "      <td>1459</td>\n",
       "      <td>318</td>\n",
       "      <td>36</td>\n",
       "      <td>5</td>\n",
       "    </tr>\n",
       "  </tbody>\n",
       "</table>\n",
       "</div>"
      ],
      "text/plain": [
       "AQI Category        Good  Moderate  Somewhat Unhealthy  Unhealthy\n",
       "Reporting Area                                                   \n",
       "Cottage Grove       1251       144                   8          4\n",
       "Eugene/Springfield  1516       277                  27          6\n",
       "Oakridge            1459       318                  36          5"
      ]
     },
     "execution_count": 11,
     "metadata": {},
     "output_type": "execute_result"
    }
   ],
   "source": [
    "# Unstacking turns the last grouping into columns, forming a table.\n",
    "by_area['AQI Category'].value_counts().unstack()"
   ]
  },
  {
   "cell_type": "code",
   "execution_count": 12,
   "metadata": {},
   "outputs": [
    {
     "data": {
      "image/png": "[encoded data removed]",
      "text/plain": [
       "<matplotlib.figure.Figure at 0x114e95048>"
      ]
     },
     "metadata": {},
     "output_type": "display_data"
    }
   ],
   "source": [
    "# We can also plot AQI over time (the default index)\n",
    "by_area['AQI'].plot(); plt.legend();"
   ]
  },
  {
   "cell_type": "code",
   "execution_count": 13,
   "metadata": {},
   "outputs": [
    {
     "data": {
      "image/png": "[encoded data removed]",
      "text/plain": [
       "<matplotlib.figure.Figure at 0x115db3630>"
      ]
     },
     "metadata": {},
     "output_type": "display_data"
    }
   ],
   "source": [
    "# Or show a histogram for each region\n",
    "by_area['AQI'].hist(bins=20,histtype='step',stacked=True,linewidth=3)\n",
    "plt.legend(['Cottage Grove','Eugene/Springfield','Oakridge']);"
   ]
  },
  {
   "cell_type": "markdown",
   "metadata": {},
   "source": [
    "## Adding columns by merging dataframes\n",
    "We've been treating the different regions as separate data frames. Let's combine them into a single data frame, with separate columns for AQI from each area. Merging in pandas is similar to joins in SQL."
   ]
  },
  {
   "cell_type": "code",
   "execution_count": 14,
   "metadata": {},
   "outputs": [
    {
     "data": {
      "text/html": [
       "<div>\n",
       "<style>\n",
       "    .dataframe thead tr:only-child th {\n",
       "        text-align: right;\n",
       "    }\n",
       "\n",
       "    .dataframe thead th {\n",
       "        text-align: left;\n",
       "    }\n",
       "\n",
       "    .dataframe tbody tr th {\n",
       "        vertical-align: top;\n",
       "    }\n",
       "</style>\n",
       "<table border=\"1\" class=\"dataframe\">\n",
       "  <thead>\n",
       "    <tr style=\"text-align: right;\">\n",
       "      <th></th>\n",
       "      <th>AQI_eug</th>\n",
       "      <th>AQI Category_eug</th>\n",
       "      <th>Observation Date</th>\n",
       "      <th>Pollutant_eug</th>\n",
       "      <th>AQI_cg</th>\n",
       "      <th>AQI Category_cg</th>\n",
       "      <th>Pollutant_cg</th>\n",
       "      <th>AQI</th>\n",
       "      <th>AQI Category</th>\n",
       "      <th>Pollutant</th>\n",
       "    </tr>\n",
       "  </thead>\n",
       "  <tbody>\n",
       "    <tr>\n",
       "      <th>0</th>\n",
       "      <td>31.0</td>\n",
       "      <td>Good</td>\n",
       "      <td>2012-09-01</td>\n",
       "      <td>Ozone</td>\n",
       "      <td>33.0</td>\n",
       "      <td>Good</td>\n",
       "      <td>Ozone</td>\n",
       "      <td>12.0</td>\n",
       "      <td>Good</td>\n",
       "      <td>Particulate Matter</td>\n",
       "    </tr>\n",
       "    <tr>\n",
       "      <th>1</th>\n",
       "      <td>31.0</td>\n",
       "      <td>Good</td>\n",
       "      <td>2012-09-02</td>\n",
       "      <td>Ozone</td>\n",
       "      <td>34.0</td>\n",
       "      <td>Good</td>\n",
       "      <td>Ozone</td>\n",
       "      <td>13.0</td>\n",
       "      <td>Good</td>\n",
       "      <td>Particulate Matter</td>\n",
       "    </tr>\n",
       "    <tr>\n",
       "      <th>2</th>\n",
       "      <td>36.0</td>\n",
       "      <td>Good</td>\n",
       "      <td>2012-09-03</td>\n",
       "      <td>Ozone</td>\n",
       "      <td>36.0</td>\n",
       "      <td>Good</td>\n",
       "      <td>Ozone</td>\n",
       "      <td>13.0</td>\n",
       "      <td>Good</td>\n",
       "      <td>Particulate Matter</td>\n",
       "    </tr>\n",
       "    <tr>\n",
       "      <th>3</th>\n",
       "      <td>37.0</td>\n",
       "      <td>Good</td>\n",
       "      <td>2012-09-04</td>\n",
       "      <td>Ozone</td>\n",
       "      <td>40.0</td>\n",
       "      <td>Good</td>\n",
       "      <td>Ozone</td>\n",
       "      <td>13.0</td>\n",
       "      <td>Good</td>\n",
       "      <td>Particulate Matter</td>\n",
       "    </tr>\n",
       "    <tr>\n",
       "      <th>4</th>\n",
       "      <td>45.0</td>\n",
       "      <td>Good</td>\n",
       "      <td>2012-09-05</td>\n",
       "      <td>Ozone</td>\n",
       "      <td>51.0</td>\n",
       "      <td>Moderate</td>\n",
       "      <td>Ozone</td>\n",
       "      <td>26.0</td>\n",
       "      <td>Good</td>\n",
       "      <td>Particulate Matter</td>\n",
       "    </tr>\n",
       "  </tbody>\n",
       "</table>\n",
       "</div>"
      ],
      "text/plain": [
       "   AQI_eug AQI Category_eug Observation Date Pollutant_eug  AQI_cg  \\\n",
       "0     31.0             Good       2012-09-01         Ozone    33.0   \n",
       "1     31.0             Good       2012-09-02         Ozone    34.0   \n",
       "2     36.0             Good       2012-09-03         Ozone    36.0   \n",
       "3     37.0             Good       2012-09-04         Ozone    40.0   \n",
       "4     45.0             Good       2012-09-05         Ozone    51.0   \n",
       "\n",
       "  AQI Category_cg Pollutant_cg   AQI AQI Category           Pollutant  \n",
       "0            Good        Ozone  12.0         Good  Particulate Matter  \n",
       "1            Good        Ozone  13.0         Good  Particulate Matter  \n",
       "2            Good        Ozone  13.0         Good  Particulate Matter  \n",
       "3            Good        Ozone  13.0         Good  Particulate Matter  \n",
       "4        Moderate        Ozone  26.0         Good  Particulate Matter  "
      ]
     },
     "execution_count": 14,
     "metadata": {},
     "output_type": "execute_result"
    }
   ],
   "source": [
    "# Select the rows for each area. We could use something like this:\n",
    "#    eug = df[df['Reporting Area'] == 'Eugene/Springfield']\n",
    "# ...or we can select the groups directly from the grouping object.\n",
    "eug = by_area.get_group('Eugene/Springfield')\n",
    "cg  = by_area.get_group('Cottage Grove')\n",
    "oak = by_area.get_group('Oakridge')\n",
    "\n",
    "# Merge Eugene/Springfield and Cottage Grove data, then add Oakridge.\n",
    "# Add suffixes to handle columns with identical names.\n",
    "aqi=pd.merge(left=eug, right=cg, on='Observation Date', suffixes=['_eug','_cg'])\n",
    "aqi=pd.merge(left=aqi, right=oak, on='Observation Date', suffixes=['','_oak'])\n",
    "\n",
    "# Remove all rows with N/A\n",
    "aqi = aqi.dropna()\n",
    "\n",
    "aqi.head()"
   ]
  },
  {
   "cell_type": "code",
   "execution_count": 15,
   "metadata": {},
   "outputs": [
    {
     "data": {
      "image/png": "[encoded data removed]",
      "text/plain": [
       "<matplotlib.figure.Figure at 0x1192dbb70>"
      ]
     },
     "metadata": {},
     "output_type": "display_data"
    }
   ],
   "source": [
    "# boxplot() will show a boxplot for all numeric data in the data frame, side by side\n",
    "aqi.boxplot();"
   ]
  },
  {
   "cell_type": "markdown",
   "metadata": {},
   "source": [
    "## Contingency Tables\n",
    "We can use groupby() and size() to create and normalize contingency tables between two categorical variables.\n",
    "In this case, we'll use the AQI categories for Eugene/Springfield and Cottage Grove, to see if the categories are usually the same or different on the same day."
   ]
  },
  {
   "cell_type": "code",
   "execution_count": 16,
   "metadata": {},
   "outputs": [
    {
     "data": {
      "text/html": [
       "<div>\n",
       "<style>\n",
       "    .dataframe thead tr:only-child th {\n",
       "        text-align: right;\n",
       "    }\n",
       "\n",
       "    .dataframe thead th {\n",
       "        text-align: left;\n",
       "    }\n",
       "\n",
       "    .dataframe tbody tr th {\n",
       "        vertical-align: top;\n",
       "    }\n",
       "</style>\n",
       "<table border=\"1\" class=\"dataframe\">\n",
       "  <thead>\n",
       "    <tr style=\"text-align: right;\">\n",
       "      <th>AQI Category_cg</th>\n",
       "      <th>Good</th>\n",
       "      <th>Moderate</th>\n",
       "      <th>Somewhat Unhealthy</th>\n",
       "      <th>Unhealthy</th>\n",
       "    </tr>\n",
       "    <tr>\n",
       "      <th>AQI Category_eug</th>\n",
       "      <th></th>\n",
       "      <th></th>\n",
       "      <th></th>\n",
       "      <th></th>\n",
       "    </tr>\n",
       "  </thead>\n",
       "  <tbody>\n",
       "    <tr>\n",
       "      <th>Good</th>\n",
       "      <td>1162</td>\n",
       "      <td>44</td>\n",
       "      <td>0</td>\n",
       "      <td>0</td>\n",
       "    </tr>\n",
       "    <tr>\n",
       "      <th>Moderate</th>\n",
       "      <td>82</td>\n",
       "      <td>90</td>\n",
       "      <td>2</td>\n",
       "      <td>0</td>\n",
       "    </tr>\n",
       "    <tr>\n",
       "      <th>Somewhat Unhealthy</th>\n",
       "      <td>0</td>\n",
       "      <td>10</td>\n",
       "      <td>4</td>\n",
       "      <td>1</td>\n",
       "    </tr>\n",
       "    <tr>\n",
       "      <th>Unhealthy</th>\n",
       "      <td>0</td>\n",
       "      <td>0</td>\n",
       "      <td>2</td>\n",
       "      <td>3</td>\n",
       "    </tr>\n",
       "  </tbody>\n",
       "</table>\n",
       "</div>"
      ],
      "text/plain": [
       "AQI Category_cg     Good  Moderate  Somewhat Unhealthy  Unhealthy\n",
       "AQI Category_eug                                                 \n",
       "Good                1162        44                   0          0\n",
       "Moderate              82        90                   2          0\n",
       "Somewhat Unhealthy     0        10                   4          1\n",
       "Unhealthy              0         0                   2          3"
      ]
     },
     "execution_count": 16,
     "metadata": {},
     "output_type": "execute_result"
    }
   ],
   "source": [
    "# To make a contingency table between Eugene/Springfield AQI and Cottage Grove AQI,\n",
    "# we can group by the AQI category in two regions.\n",
    "# This will create a subset for each combination. Use .size() to count them.\n",
    "eug_cg_counts = aqi.groupby(['AQI Category_eug', 'AQI Category_cg']).size()\n",
    "\n",
    "# Unstack turns the last grouping into columns, giving us a table.\n",
    "# Fill in unobserved combinations with 0.\n",
    "eug_cg_counts.unstack(fill_value=0)"
   ]
  },
  {
   "cell_type": "code",
   "execution_count": 17,
   "metadata": {},
   "outputs": [
    {
     "data": {
      "image/png": "[encoded data removed]",
      "text/plain": [
       "<matplotlib.figure.Figure at 0x119544198>"
      ]
     },
     "metadata": {},
     "output_type": "display_data"
    }
   ],
   "source": [
    "eug_cg_counts.unstack(fill_value=0).plot(kind='bar', stacked=True);"
   ]
  },
  {
   "cell_type": "markdown",
   "metadata": {},
   "source": [
    "### Normalizing Rows and Columns\n",
    "Divide by Cottage Grove counts to normalize by columns:"
   ]
  },
  {
   "cell_type": "code",
   "execution_count": 18,
   "metadata": {},
   "outputs": [
    {
     "data": {
      "text/html": [
       "<div>\n",
       "<style>\n",
       "    .dataframe thead tr:only-child th {\n",
       "        text-align: right;\n",
       "    }\n",
       "\n",
       "    .dataframe thead th {\n",
       "        text-align: left;\n",
       "    }\n",
       "\n",
       "    .dataframe tbody tr th {\n",
       "        vertical-align: top;\n",
       "    }\n",
       "</style>\n",
       "<table border=\"1\" class=\"dataframe\">\n",
       "  <thead>\n",
       "    <tr style=\"text-align: right;\">\n",
       "      <th>AQI Category_cg</th>\n",
       "      <th>Good</th>\n",
       "      <th>Moderate</th>\n",
       "      <th>Somewhat Unhealthy</th>\n",
       "      <th>Unhealthy</th>\n",
       "    </tr>\n",
       "    <tr>\n",
       "      <th>AQI Category_eug</th>\n",
       "      <th></th>\n",
       "      <th></th>\n",
       "      <th></th>\n",
       "      <th></th>\n",
       "    </tr>\n",
       "  </thead>\n",
       "  <tbody>\n",
       "    <tr>\n",
       "      <th>Good</th>\n",
       "      <td>0.934084</td>\n",
       "      <td>0.305556</td>\n",
       "      <td>0.00</td>\n",
       "      <td>0.00</td>\n",
       "    </tr>\n",
       "    <tr>\n",
       "      <th>Moderate</th>\n",
       "      <td>0.065916</td>\n",
       "      <td>0.625000</td>\n",
       "      <td>0.25</td>\n",
       "      <td>0.00</td>\n",
       "    </tr>\n",
       "    <tr>\n",
       "      <th>Somewhat Unhealthy</th>\n",
       "      <td>0.000000</td>\n",
       "      <td>0.069444</td>\n",
       "      <td>0.50</td>\n",
       "      <td>0.25</td>\n",
       "    </tr>\n",
       "    <tr>\n",
       "      <th>Unhealthy</th>\n",
       "      <td>0.000000</td>\n",
       "      <td>0.000000</td>\n",
       "      <td>0.25</td>\n",
       "      <td>0.75</td>\n",
       "    </tr>\n",
       "  </tbody>\n",
       "</table>\n",
       "</div>"
      ],
      "text/plain": [
       "AQI Category_cg         Good  Moderate  Somewhat Unhealthy  Unhealthy\n",
       "AQI Category_eug                                                     \n",
       "Good                0.934084  0.305556                0.00       0.00\n",
       "Moderate            0.065916  0.625000                0.25       0.00\n",
       "Somewhat Unhealthy  0.000000  0.069444                0.50       0.25\n",
       "Unhealthy           0.000000  0.000000                0.25       0.75"
      ]
     },
     "execution_count": 18,
     "metadata": {},
     "output_type": "execute_result"
    }
   ],
   "source": [
    "cg_counts = aqi.groupby(['AQI Category_cg']).size()\n",
    "(eug_cg_counts / cg_counts).unstack(fill_value=0)"
   ]
  },
  {
   "cell_type": "markdown",
   "metadata": {},
   "source": [
    "Divide by Eugene/Springfield counts to normalize by rows."
   ]
  },
  {
   "cell_type": "code",
   "execution_count": 19,
   "metadata": {},
   "outputs": [
    {
     "data": {
      "text/html": [
       "<div>\n",
       "<style>\n",
       "    .dataframe thead tr:only-child th {\n",
       "        text-align: right;\n",
       "    }\n",
       "\n",
       "    .dataframe thead th {\n",
       "        text-align: left;\n",
       "    }\n",
       "\n",
       "    .dataframe tbody tr th {\n",
       "        vertical-align: top;\n",
       "    }\n",
       "</style>\n",
       "<table border=\"1\" class=\"dataframe\">\n",
       "  <thead>\n",
       "    <tr style=\"text-align: right;\">\n",
       "      <th>AQI Category_cg</th>\n",
       "      <th>Good</th>\n",
       "      <th>Moderate</th>\n",
       "      <th>Somewhat Unhealthy</th>\n",
       "      <th>Unhealthy</th>\n",
       "    </tr>\n",
       "    <tr>\n",
       "      <th>AQI Category_eug</th>\n",
       "      <th></th>\n",
       "      <th></th>\n",
       "      <th></th>\n",
       "      <th></th>\n",
       "    </tr>\n",
       "  </thead>\n",
       "  <tbody>\n",
       "    <tr>\n",
       "      <th>Good</th>\n",
       "      <td>0.963516</td>\n",
       "      <td>0.036484</td>\n",
       "      <td>0.000000</td>\n",
       "      <td>0.000000</td>\n",
       "    </tr>\n",
       "    <tr>\n",
       "      <th>Moderate</th>\n",
       "      <td>0.471264</td>\n",
       "      <td>0.517241</td>\n",
       "      <td>0.011494</td>\n",
       "      <td>0.000000</td>\n",
       "    </tr>\n",
       "    <tr>\n",
       "      <th>Somewhat Unhealthy</th>\n",
       "      <td>0.000000</td>\n",
       "      <td>0.666667</td>\n",
       "      <td>0.266667</td>\n",
       "      <td>0.066667</td>\n",
       "    </tr>\n",
       "    <tr>\n",
       "      <th>Unhealthy</th>\n",
       "      <td>0.000000</td>\n",
       "      <td>0.000000</td>\n",
       "      <td>0.400000</td>\n",
       "      <td>0.600000</td>\n",
       "    </tr>\n",
       "  </tbody>\n",
       "</table>\n",
       "</div>"
      ],
      "text/plain": [
       "AQI Category_cg         Good  Moderate  Somewhat Unhealthy  Unhealthy\n",
       "AQI Category_eug                                                     \n",
       "Good                0.963516  0.036484            0.000000   0.000000\n",
       "Moderate            0.471264  0.517241            0.011494   0.000000\n",
       "Somewhat Unhealthy  0.000000  0.666667            0.266667   0.066667\n",
       "Unhealthy           0.000000  0.000000            0.400000   0.600000"
      ]
     },
     "execution_count": 19,
     "metadata": {},
     "output_type": "execute_result"
    }
   ],
   "source": [
    "eug_counts = aqi.groupby(['AQI Category_eug']).size()\n",
    "(eug_cg_counts / eug_counts).unstack(fill_value=0)"
   ]
  },
  {
   "cell_type": "markdown",
   "metadata": {},
   "source": [
    "Finally, we can plot the normalized contingency table as a stacked bar graph"
   ]
  },
  {
   "cell_type": "code",
   "execution_count": 20,
   "metadata": {},
   "outputs": [
    {
     "data": {
      "image/png": "[encoded data removed]",
      "text/plain": [
       "<matplotlib.figure.Figure at 0x1195c3fd0>"
      ]
     },
     "metadata": {},
     "output_type": "display_data"
    }
   ],
   "source": [
    "(eug_cg_counts / aqi.groupby(['AQI Category_eug']).size()).unstack(fill_value=0).plot(kind='bar', stacked=True);"
   ]
  },
  {
   "cell_type": "markdown",
   "metadata": {},
   "source": [
    "## Scatterplots\n",
    "Let's plot the AQI in each region as a function of the other to see if there's an association between the two.\n",
    "We'll use matplotlib for this directly, passing in the columns of numbers we want to plot. An alpha value sets the transparency, so we can see the relative density."
   ]
  },
  {
   "cell_type": "code",
   "execution_count": 21,
   "metadata": {
    "scrolled": false
   },
   "outputs": [
    {
     "data": {
      "image/png": "[encoded data removed]",
      "text/plain": [
       "<matplotlib.figure.Figure at 0x11976c8d0>"
      ]
     },
     "metadata": {},
     "output_type": "display_data"
    }
   ],
   "source": [
    "plt.scatter(aqi['AQI_eug'], aqi['AQI_cg'], alpha=0.2)\n",
    "plt.xlabel('Eugene/Springfield'); plt.ylabel('Cottage Grove');"
   ]
  },
  {
   "cell_type": "code",
   "execution_count": 22,
   "metadata": {
    "scrolled": true
   },
   "outputs": [
    {
     "data": {
      "image/png": "[encoded data removed]",
      "text/plain": [
       "<matplotlib.figure.Figure at 0x1198e5898>"
      ]
     },
     "metadata": {},
     "output_type": "display_data"
    }
   ],
   "source": [
    "plt.scatter(aqi['AQI_eug'], aqi['AQI'], alpha=0.2)\n",
    "plt.xlabel('Eugene/Springfield'); plt.ylabel('Oakridge');"
   ]
  },
  {
   "cell_type": "code",
   "execution_count": 23,
   "metadata": {},
   "outputs": [
    {
     "data": {
      "image/png": "[encoded data removed]",
      "text/plain": [
       "<matplotlib.figure.Figure at 0x119aa3668>"
      ]
     },
     "metadata": {},
     "output_type": "display_data"
    }
   ],
   "source": [
    "plt.scatter(aqi['AQI_cg'], aqi['AQI'], alpha=0.2)\n",
    "plt.xlabel('Cottage Grove'); plt.ylabel('Oakridge');"
   ]
  },
  {
   "cell_type": "code",
   "execution_count": null,
   "metadata": {
    "collapsed": true
   },
   "outputs": [],
   "source": []
  }
 ],
 "metadata": {
  "kernelspec": {
   "display_name": "Python 3",
   "language": "python",
   "name": "python3"
  },
  "language_info": {
   "codemirror_mode": {
    "name": "ipython",
    "version": 3
   },
   "file_extension": ".py",
   "mimetype": "text/x-python",
   "name": "python",
   "nbconvert_exporter": "python",
   "pygments_lexer": "ipython3",
   "version": "3.6.1"
  }
 },
 "nbformat": 4,
 "nbformat_minor": 2
}
